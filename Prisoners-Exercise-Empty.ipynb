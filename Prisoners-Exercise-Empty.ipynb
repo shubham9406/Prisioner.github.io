{
 "cells": [
  {
   "cell_type": "markdown",
   "metadata": {},
   "source": [
    "# Prisoners Data Visualization"
   ]
  },
  {
   "cell_type": "markdown",
   "metadata": {},
   "source": [
    "### Step 1: Import the necessary libraries"
   ]
  },
  {
   "cell_type": "code",
   "execution_count": 1,
   "metadata": {},
   "outputs": [],
   "source": [
    "import pandas as pd"
   ]
  },
  {
   "cell_type": "markdown",
   "metadata": {},
   "source": [
    "### Step 2: Load the data and display first 5 and last 5 records"
   ]
  },
  {
   "cell_type": "code",
   "execution_count": 2,
   "metadata": {},
   "outputs": [],
   "source": [
    "data = pd.read_csv('Prisoners-Dataset.csv')"
   ]
  },
  {
   "cell_type": "code",
   "execution_count": 3,
   "metadata": {},
   "outputs": [
    {
     "data": {
      "text/html": [
       "<div>\n",
       "<style scoped>\n",
       "    .dataframe tbody tr th:only-of-type {\n",
       "        vertical-align: middle;\n",
       "    }\n",
       "\n",
       "    .dataframe tbody tr th {\n",
       "        vertical-align: top;\n",
       "    }\n",
       "\n",
       "    .dataframe thead th {\n",
       "        text-align: right;\n",
       "    }\n",
       "</style>\n",
       "<table border=\"1\" class=\"dataframe\">\n",
       "  <thead>\n",
       "    <tr style=\"text-align: right;\">\n",
       "      <th></th>\n",
       "      <th>STATE/UT</th>\n",
       "      <th>YEAR</th>\n",
       "      <th>No. of Inmates benefitted by Elementary Education</th>\n",
       "      <th>No. of Inmates benefitted by Adult Education</th>\n",
       "      <th>No. of Inmates benefitted by Higher Education</th>\n",
       "      <th>No. of Inmates benefitted by Computer Course</th>\n",
       "    </tr>\n",
       "  </thead>\n",
       "  <tbody>\n",
       "    <tr>\n",
       "      <th>0</th>\n",
       "      <td>Andhra Pradesh</td>\n",
       "      <td>2013</td>\n",
       "      <td>9480</td>\n",
       "      <td>13758</td>\n",
       "      <td>672</td>\n",
       "      <td>170</td>\n",
       "    </tr>\n",
       "    <tr>\n",
       "      <th>1</th>\n",
       "      <td>Arunachal Pradesh</td>\n",
       "      <td>2013</td>\n",
       "      <td>0</td>\n",
       "      <td>0</td>\n",
       "      <td>0</td>\n",
       "      <td>0</td>\n",
       "    </tr>\n",
       "    <tr>\n",
       "      <th>2</th>\n",
       "      <td>Assam</td>\n",
       "      <td>2013</td>\n",
       "      <td>676</td>\n",
       "      <td>750</td>\n",
       "      <td>14</td>\n",
       "      <td>30</td>\n",
       "    </tr>\n",
       "    <tr>\n",
       "      <th>3</th>\n",
       "      <td>Bihar</td>\n",
       "      <td>2013</td>\n",
       "      <td>1693</td>\n",
       "      <td>3013</td>\n",
       "      <td>125</td>\n",
       "      <td>1417</td>\n",
       "    </tr>\n",
       "    <tr>\n",
       "      <th>4</th>\n",
       "      <td>Chhatisgarh</td>\n",
       "      <td>2013</td>\n",
       "      <td>1664</td>\n",
       "      <td>1803</td>\n",
       "      <td>192</td>\n",
       "      <td>103</td>\n",
       "    </tr>\n",
       "  </tbody>\n",
       "</table>\n",
       "</div>"
      ],
      "text/plain": [
       "            STATE/UT  YEAR  No. of Inmates benefitted by Elementary Education  \\\n",
       "0     Andhra Pradesh  2013                                               9480   \n",
       "1  Arunachal Pradesh  2013                                                  0   \n",
       "2              Assam  2013                                                676   \n",
       "3              Bihar  2013                                               1693   \n",
       "4        Chhatisgarh  2013                                               1664   \n",
       "\n",
       "   No. of Inmates benefitted by Adult Education  \\\n",
       "0                                         13758   \n",
       "1                                             0   \n",
       "2                                           750   \n",
       "3                                          3013   \n",
       "4                                          1803   \n",
       "\n",
       "   No. of Inmates benefitted by Higher Education  \\\n",
       "0                                            672   \n",
       "1                                              0   \n",
       "2                                             14   \n",
       "3                                            125   \n",
       "4                                            192   \n",
       "\n",
       "   No. of Inmates benefitted by Computer Course  \n",
       "0                                           170  \n",
       "1                                             0  \n",
       "2                                            30  \n",
       "3                                          1417  \n",
       "4                                           103  "
      ]
     },
     "execution_count": 3,
     "metadata": {},
     "output_type": "execute_result"
    }
   ],
   "source": [
    "data.head()"
   ]
  },
  {
   "cell_type": "code",
   "execution_count": 28,
   "metadata": {},
   "outputs": [
    {
     "data": {
      "text/html": [
       "<div>\n",
       "<style scoped>\n",
       "    .dataframe tbody tr th:only-of-type {\n",
       "        vertical-align: middle;\n",
       "    }\n",
       "\n",
       "    .dataframe tbody tr th {\n",
       "        vertical-align: top;\n",
       "    }\n",
       "\n",
       "    .dataframe thead th {\n",
       "        text-align: right;\n",
       "    }\n",
       "</style>\n",
       "<table border=\"1\" class=\"dataframe\">\n",
       "  <thead>\n",
       "    <tr style=\"text-align: right;\">\n",
       "      <th></th>\n",
       "      <th>STATE/UT</th>\n",
       "      <th>YEAR</th>\n",
       "      <th>No. of Inmates benefitted by Elementary Education</th>\n",
       "      <th>No. of Inmates benefitted by Adult Education</th>\n",
       "      <th>No. of Inmates benefitted by Higher Education</th>\n",
       "      <th>No. of Inmates benefitted by Computer Course</th>\n",
       "    </tr>\n",
       "  </thead>\n",
       "  <tbody>\n",
       "    <tr>\n",
       "      <th>30</th>\n",
       "      <td>D &amp; N Haveli</td>\n",
       "      <td>2013</td>\n",
       "      <td>0</td>\n",
       "      <td>0</td>\n",
       "      <td>0</td>\n",
       "      <td>0</td>\n",
       "    </tr>\n",
       "    <tr>\n",
       "      <th>31</th>\n",
       "      <td>Daman &amp; Diu</td>\n",
       "      <td>2013</td>\n",
       "      <td>0</td>\n",
       "      <td>0</td>\n",
       "      <td>0</td>\n",
       "      <td>0</td>\n",
       "    </tr>\n",
       "    <tr>\n",
       "      <th>32</th>\n",
       "      <td>Delhi</td>\n",
       "      <td>2013</td>\n",
       "      <td>1458</td>\n",
       "      <td>1187</td>\n",
       "      <td>908</td>\n",
       "      <td>174</td>\n",
       "    </tr>\n",
       "    <tr>\n",
       "      <th>33</th>\n",
       "      <td>Lakshadweep</td>\n",
       "      <td>2013</td>\n",
       "      <td>0</td>\n",
       "      <td>0</td>\n",
       "      <td>0</td>\n",
       "      <td>0</td>\n",
       "    </tr>\n",
       "    <tr>\n",
       "      <th>34</th>\n",
       "      <td>Pondicherry</td>\n",
       "      <td>2013</td>\n",
       "      <td>0</td>\n",
       "      <td>0</td>\n",
       "      <td>0</td>\n",
       "      <td>0</td>\n",
       "    </tr>\n",
       "  </tbody>\n",
       "</table>\n",
       "</div>"
      ],
      "text/plain": [
       "        STATE/UT  YEAR  No. of Inmates benefitted by Elementary Education  \\\n",
       "30  D & N Haveli  2013                                                  0   \n",
       "31   Daman & Diu  2013                                                  0   \n",
       "32         Delhi  2013                                               1458   \n",
       "33   Lakshadweep  2013                                                  0   \n",
       "34   Pondicherry  2013                                                  0   \n",
       "\n",
       "    No. of Inmates benefitted by Adult Education  \\\n",
       "30                                             0   \n",
       "31                                             0   \n",
       "32                                          1187   \n",
       "33                                             0   \n",
       "34                                             0   \n",
       "\n",
       "    No. of Inmates benefitted by Higher Education  \\\n",
       "30                                              0   \n",
       "31                                              0   \n",
       "32                                            908   \n",
       "33                                              0   \n",
       "34                                              0   \n",
       "\n",
       "    No. of Inmates benefitted by Computer Course  \n",
       "30                                             0  \n",
       "31                                             0  \n",
       "32                                           174  \n",
       "33                                             0  \n",
       "34                                             0  "
      ]
     },
     "execution_count": 28,
     "metadata": {},
     "output_type": "execute_result"
    }
   ],
   "source": [
    "data.tail()"
   ]
  },
  {
   "cell_type": "markdown",
   "metadata": {},
   "source": [
    "### Step 3: Describe the data"
   ]
  },
  {
   "cell_type": "code",
   "execution_count": 4,
   "metadata": {},
   "outputs": [
    {
     "data": {
      "text/html": [
       "<div>\n",
       "<style scoped>\n",
       "    .dataframe tbody tr th:only-of-type {\n",
       "        vertical-align: middle;\n",
       "    }\n",
       "\n",
       "    .dataframe tbody tr th {\n",
       "        vertical-align: top;\n",
       "    }\n",
       "\n",
       "    .dataframe thead th {\n",
       "        text-align: right;\n",
       "    }\n",
       "</style>\n",
       "<table border=\"1\" class=\"dataframe\">\n",
       "  <thead>\n",
       "    <tr style=\"text-align: right;\">\n",
       "      <th></th>\n",
       "      <th>YEAR</th>\n",
       "      <th>No. of Inmates benefitted by Elementary Education</th>\n",
       "      <th>No. of Inmates benefitted by Adult Education</th>\n",
       "      <th>No. of Inmates benefitted by Higher Education</th>\n",
       "      <th>No. of Inmates benefitted by Computer Course</th>\n",
       "    </tr>\n",
       "  </thead>\n",
       "  <tbody>\n",
       "    <tr>\n",
       "      <th>count</th>\n",
       "      <td>35.0</td>\n",
       "      <td>35.000000</td>\n",
       "      <td>35.000000</td>\n",
       "      <td>35.000000</td>\n",
       "      <td>35.000000</td>\n",
       "    </tr>\n",
       "    <tr>\n",
       "      <th>mean</th>\n",
       "      <td>2013.0</td>\n",
       "      <td>1057.914286</td>\n",
       "      <td>1534.857143</td>\n",
       "      <td>237.457143</td>\n",
       "      <td>210.171429</td>\n",
       "    </tr>\n",
       "    <tr>\n",
       "      <th>std</th>\n",
       "      <td>0.0</td>\n",
       "      <td>2078.196777</td>\n",
       "      <td>3022.110503</td>\n",
       "      <td>375.614191</td>\n",
       "      <td>359.117340</td>\n",
       "    </tr>\n",
       "    <tr>\n",
       "      <th>min</th>\n",
       "      <td>2013.0</td>\n",
       "      <td>0.000000</td>\n",
       "      <td>0.000000</td>\n",
       "      <td>0.000000</td>\n",
       "      <td>0.000000</td>\n",
       "    </tr>\n",
       "    <tr>\n",
       "      <th>25%</th>\n",
       "      <td>2013.0</td>\n",
       "      <td>0.000000</td>\n",
       "      <td>6.500000</td>\n",
       "      <td>2.000000</td>\n",
       "      <td>0.000000</td>\n",
       "    </tr>\n",
       "    <tr>\n",
       "      <th>50%</th>\n",
       "      <td>2013.0</td>\n",
       "      <td>167.000000</td>\n",
       "      <td>237.000000</td>\n",
       "      <td>33.000000</td>\n",
       "      <td>38.000000</td>\n",
       "    </tr>\n",
       "    <tr>\n",
       "      <th>75%</th>\n",
       "      <td>2013.0</td>\n",
       "      <td>1294.500000</td>\n",
       "      <td>1733.500000</td>\n",
       "      <td>234.500000</td>\n",
       "      <td>227.500000</td>\n",
       "    </tr>\n",
       "    <tr>\n",
       "      <th>max</th>\n",
       "      <td>2013.0</td>\n",
       "      <td>9480.000000</td>\n",
       "      <td>13758.000000</td>\n",
       "      <td>1353.000000</td>\n",
       "      <td>1417.000000</td>\n",
       "    </tr>\n",
       "  </tbody>\n",
       "</table>\n",
       "</div>"
      ],
      "text/plain": [
       "         YEAR  No. of Inmates benefitted by Elementary Education  \\\n",
       "count    35.0                                          35.000000   \n",
       "mean   2013.0                                        1057.914286   \n",
       "std       0.0                                        2078.196777   \n",
       "min    2013.0                                           0.000000   \n",
       "25%    2013.0                                           0.000000   \n",
       "50%    2013.0                                         167.000000   \n",
       "75%    2013.0                                        1294.500000   \n",
       "max    2013.0                                        9480.000000   \n",
       "\n",
       "       No. of Inmates benefitted by Adult Education  \\\n",
       "count                                     35.000000   \n",
       "mean                                    1534.857143   \n",
       "std                                     3022.110503   \n",
       "min                                        0.000000   \n",
       "25%                                        6.500000   \n",
       "50%                                      237.000000   \n",
       "75%                                     1733.500000   \n",
       "max                                    13758.000000   \n",
       "\n",
       "       No. of Inmates benefitted by Higher Education  \\\n",
       "count                                      35.000000   \n",
       "mean                                      237.457143   \n",
       "std                                       375.614191   \n",
       "min                                         0.000000   \n",
       "25%                                         2.000000   \n",
       "50%                                        33.000000   \n",
       "75%                                       234.500000   \n",
       "max                                      1353.000000   \n",
       "\n",
       "       No. of Inmates benefitted by Computer Course  \n",
       "count                                     35.000000  \n",
       "mean                                     210.171429  \n",
       "std                                      359.117340  \n",
       "min                                        0.000000  \n",
       "25%                                        0.000000  \n",
       "50%                                       38.000000  \n",
       "75%                                      227.500000  \n",
       "max                                     1417.000000  "
      ]
     },
     "execution_count": 4,
     "metadata": {},
     "output_type": "execute_result"
    }
   ],
   "source": [
    "data.describe()"
   ]
  },
  {
   "cell_type": "markdown",
   "metadata": {},
   "source": [
    "### Step 4: Create a column 'total_benefitted' that shows sum of inmates with respect to each State/UT"
   ]
  },
  {
   "cell_type": "code",
   "execution_count": 5,
   "metadata": {},
   "outputs": [],
   "source": [
    "data.drop('YEAR', axis=1, inplace=True)"
   ]
  },
  {
   "cell_type": "code",
   "execution_count": 7,
   "metadata": {},
   "outputs": [
    {
     "data": {
      "text/html": [
       "<div>\n",
       "<style scoped>\n",
       "    .dataframe tbody tr th:only-of-type {\n",
       "        vertical-align: middle;\n",
       "    }\n",
       "\n",
       "    .dataframe tbody tr th {\n",
       "        vertical-align: top;\n",
       "    }\n",
       "\n",
       "    .dataframe thead th {\n",
       "        text-align: right;\n",
       "    }\n",
       "</style>\n",
       "<table border=\"1\" class=\"dataframe\">\n",
       "  <thead>\n",
       "    <tr style=\"text-align: right;\">\n",
       "      <th></th>\n",
       "      <th>STATE/UT</th>\n",
       "      <th>No. of Inmates benefitted by Elementary Education</th>\n",
       "      <th>No. of Inmates benefitted by Adult Education</th>\n",
       "      <th>No. of Inmates benefitted by Higher Education</th>\n",
       "      <th>No. of Inmates benefitted by Computer Course</th>\n",
       "    </tr>\n",
       "  </thead>\n",
       "  <tbody>\n",
       "    <tr>\n",
       "      <th>0</th>\n",
       "      <td>Andhra Pradesh</td>\n",
       "      <td>9480</td>\n",
       "      <td>13758</td>\n",
       "      <td>672</td>\n",
       "      <td>170</td>\n",
       "    </tr>\n",
       "    <tr>\n",
       "      <th>1</th>\n",
       "      <td>Arunachal Pradesh</td>\n",
       "      <td>0</td>\n",
       "      <td>0</td>\n",
       "      <td>0</td>\n",
       "      <td>0</td>\n",
       "    </tr>\n",
       "  </tbody>\n",
       "</table>\n",
       "</div>"
      ],
      "text/plain": [
       "            STATE/UT  No. of Inmates benefitted by Elementary Education  \\\n",
       "0     Andhra Pradesh                                               9480   \n",
       "1  Arunachal Pradesh                                                  0   \n",
       "\n",
       "   No. of Inmates benefitted by Adult Education  \\\n",
       "0                                         13758   \n",
       "1                                             0   \n",
       "\n",
       "   No. of Inmates benefitted by Higher Education  \\\n",
       "0                                            672   \n",
       "1                                              0   \n",
       "\n",
       "   No. of Inmates benefitted by Computer Course  \n",
       "0                                           170  \n",
       "1                                             0  "
      ]
     },
     "execution_count": 7,
     "metadata": {},
     "output_type": "execute_result"
    }
   ],
   "source": [
    "data.head(2)"
   ]
  },
  {
   "cell_type": "code",
   "execution_count": 8,
   "metadata": {},
   "outputs": [],
   "source": [
    "total = data.sum(axis=1)"
   ]
  },
  {
   "cell_type": "code",
   "execution_count": 9,
   "metadata": {},
   "outputs": [],
   "source": [
    "data['total_benefitted'] = total"
   ]
  },
  {
   "cell_type": "code",
   "execution_count": 10,
   "metadata": {},
   "outputs": [
    {
     "data": {
      "text/html": [
       "<div>\n",
       "<style scoped>\n",
       "    .dataframe tbody tr th:only-of-type {\n",
       "        vertical-align: middle;\n",
       "    }\n",
       "\n",
       "    .dataframe tbody tr th {\n",
       "        vertical-align: top;\n",
       "    }\n",
       "\n",
       "    .dataframe thead th {\n",
       "        text-align: right;\n",
       "    }\n",
       "</style>\n",
       "<table border=\"1\" class=\"dataframe\">\n",
       "  <thead>\n",
       "    <tr style=\"text-align: right;\">\n",
       "      <th></th>\n",
       "      <th>STATE/UT</th>\n",
       "      <th>No. of Inmates benefitted by Elementary Education</th>\n",
       "      <th>No. of Inmates benefitted by Adult Education</th>\n",
       "      <th>No. of Inmates benefitted by Higher Education</th>\n",
       "      <th>No. of Inmates benefitted by Computer Course</th>\n",
       "      <th>total_benefitted</th>\n",
       "    </tr>\n",
       "  </thead>\n",
       "  <tbody>\n",
       "    <tr>\n",
       "      <th>0</th>\n",
       "      <td>Andhra Pradesh</td>\n",
       "      <td>9480</td>\n",
       "      <td>13758</td>\n",
       "      <td>672</td>\n",
       "      <td>170</td>\n",
       "      <td>24080</td>\n",
       "    </tr>\n",
       "    <tr>\n",
       "      <th>1</th>\n",
       "      <td>Arunachal Pradesh</td>\n",
       "      <td>0</td>\n",
       "      <td>0</td>\n",
       "      <td>0</td>\n",
       "      <td>0</td>\n",
       "      <td>0</td>\n",
       "    </tr>\n",
       "  </tbody>\n",
       "</table>\n",
       "</div>"
      ],
      "text/plain": [
       "            STATE/UT  No. of Inmates benefitted by Elementary Education  \\\n",
       "0     Andhra Pradesh                                               9480   \n",
       "1  Arunachal Pradesh                                                  0   \n",
       "\n",
       "   No. of Inmates benefitted by Adult Education  \\\n",
       "0                                         13758   \n",
       "1                                             0   \n",
       "\n",
       "   No. of Inmates benefitted by Higher Education  \\\n",
       "0                                            672   \n",
       "1                                              0   \n",
       "\n",
       "   No. of Inmates benefitted by Computer Course  total_benefitted  \n",
       "0                                           170             24080  \n",
       "1                                             0                 0  "
      ]
     },
     "execution_count": 10,
     "metadata": {},
     "output_type": "execute_result"
    }
   ],
   "source": [
    "data.head(2)"
   ]
  },
  {
   "cell_type": "markdown",
   "metadata": {},
   "source": [
    "### Step 5: Create a bar char with total benefitted inmates values in descending order"
   ]
  },
  {
   "cell_type": "code",
   "execution_count": 18,
   "metadata": {},
   "outputs": [],
   "source": [
    "import matplotlib.pyplot as plt\n",
    "import seaborn as sns"
   ]
  },
  {
   "cell_type": "code",
   "execution_count": 19,
   "metadata": {},
   "outputs": [],
   "source": [
    "total_data = data[['STATE/UT', 'total_benefitted']]"
   ]
  },
  {
   "cell_type": "code",
   "execution_count": 20,
   "metadata": {},
   "outputs": [],
   "source": [
    "total_data = total_data.set_index('STATE/UT')"
   ]
  },
  {
   "cell_type": "code",
   "execution_count": 22,
   "metadata": {},
   "outputs": [],
   "source": [
    "total_data = total_data.sort_values('total_benefitted', ascending=False)"
   ]
  },
  {
   "cell_type": "code",
   "execution_count": 23,
   "metadata": {
    "scrolled": true
   },
   "outputs": [
    {
     "data": {
      "text/html": [
       "<div>\n",
       "<style scoped>\n",
       "    .dataframe tbody tr th:only-of-type {\n",
       "        vertical-align: middle;\n",
       "    }\n",
       "\n",
       "    .dataframe tbody tr th {\n",
       "        vertical-align: top;\n",
       "    }\n",
       "\n",
       "    .dataframe thead th {\n",
       "        text-align: right;\n",
       "    }\n",
       "</style>\n",
       "<table border=\"1\" class=\"dataframe\">\n",
       "  <thead>\n",
       "    <tr style=\"text-align: right;\">\n",
       "      <th></th>\n",
       "      <th>total_benefitted</th>\n",
       "    </tr>\n",
       "    <tr>\n",
       "      <th>STATE/UT</th>\n",
       "      <th></th>\n",
       "    </tr>\n",
       "  </thead>\n",
       "  <tbody>\n",
       "    <tr>\n",
       "      <th>Andhra Pradesh</th>\n",
       "      <td>24080</td>\n",
       "    </tr>\n",
       "    <tr>\n",
       "      <th>Uttar Pradesh</th>\n",
       "      <td>17534</td>\n",
       "    </tr>\n",
       "  </tbody>\n",
       "</table>\n",
       "</div>"
      ],
      "text/plain": [
       "                total_benefitted\n",
       "STATE/UT                        \n",
       "Andhra Pradesh             24080\n",
       "Uttar Pradesh              17534"
      ]
     },
     "execution_count": 23,
     "metadata": {},
     "output_type": "execute_result"
    }
   ],
   "source": [
    "total_data.head(2 )"
   ]
  },
  {
   "cell_type": "code",
   "execution_count": 24,
   "metadata": {},
   "outputs": [],
   "source": [
    "sns.set()"
   ]
  },
  {
   "cell_type": "code",
   "execution_count": 25,
   "metadata": {},
   "outputs": [],
   "source": [
    "font={\n",
    "    \"size\" :20\n",
    "}"
   ]
  },
  {
   "cell_type": "code",
   "execution_count": 26,
   "metadata": {},
   "outputs": [
    {
     "data": {
      "text/plain": [
       "Text(0.5, 1.0, 'State-vs-Inmates Benefitted')"
      ]
     },
     "execution_count": 26,
     "metadata": {},
     "output_type": "execute_result"
    },
    {
     "data": {
      "image/png": "[encoded data removed]",
      "text/plain": [
       "<Figure size 864x576 with 1 Axes>"
      ]
     },
     "metadata": {},
     "output_type": "display_data"
    }
   ],
   "source": [
    "sns.set(rc={\"figure.figsize\":(12,8)})\n",
    "total_data[:8].plot(kind=\"bar\")\n",
    "plt.xticks(rotation=30)\n",
    "plt.yticks(rotation=30)\n",
    "plt.xlabel(\"STATE/UT\", fontdict=font)\n",
    "plt.ylabel(\"Number of Inmates Benefitted\", fontdict=font)\n",
    "plt.title('State-vs-Inmates Benefitted', fontdict=font)\n",
    "plt.savefig('State-vs-Inmates Benefitted.png')"
   ]
  },
  {
   "cell_type": "markdown",
   "metadata": {},
   "source": [
    "### Step 6: Create a pie chart to show ratio among different modes of benefits"
   ]
  },
  {
   "cell_type": "code",
   "execution_count": 35,
   "metadata": {},
   "outputs": [],
   "source": [
    "benefits = data.iloc[:, :-1]"
   ]
  },
  {
   "cell_type": "code",
   "execution_count": 36,
   "metadata": {},
   "outputs": [],
   "source": [
    "benefits = benefits.set_index('STATE/UT')"
   ]
  },
  {
   "cell_type": "code",
   "execution_count": 37,
   "metadata": {},
   "outputs": [
    {
     "data": {
      "text/html": [
       "<div>\n",
       "<style scoped>\n",
       "    .dataframe tbody tr th:only-of-type {\n",
       "        vertical-align: middle;\n",
       "    }\n",
       "\n",
       "    .dataframe tbody tr th {\n",
       "        vertical-align: top;\n",
       "    }\n",
       "\n",
       "    .dataframe thead th {\n",
       "        text-align: right;\n",
       "    }\n",
       "</style>\n",
       "<table border=\"1\" class=\"dataframe\">\n",
       "  <thead>\n",
       "    <tr style=\"text-align: right;\">\n",
       "      <th></th>\n",
       "      <th>No. of Inmates benefitted by Elementary Education</th>\n",
       "      <th>No. of Inmates benefitted by Adult Education</th>\n",
       "      <th>No. of Inmates benefitted by Higher Education</th>\n",
       "      <th>No. of Inmates benefitted by Computer Course</th>\n",
       "    </tr>\n",
       "    <tr>\n",
       "      <th>STATE/UT</th>\n",
       "      <th></th>\n",
       "      <th></th>\n",
       "      <th></th>\n",
       "      <th></th>\n",
       "    </tr>\n",
       "  </thead>\n",
       "  <tbody>\n",
       "    <tr>\n",
       "      <th>Andhra Pradesh</th>\n",
       "      <td>9480</td>\n",
       "      <td>13758</td>\n",
       "      <td>672</td>\n",
       "      <td>170</td>\n",
       "    </tr>\n",
       "    <tr>\n",
       "      <th>Arunachal Pradesh</th>\n",
       "      <td>0</td>\n",
       "      <td>0</td>\n",
       "      <td>0</td>\n",
       "      <td>0</td>\n",
       "    </tr>\n",
       "  </tbody>\n",
       "</table>\n",
       "</div>"
      ],
      "text/plain": [
       "                   No. of Inmates benefitted by Elementary Education  \\\n",
       "STATE/UT                                                               \n",
       "Andhra Pradesh                                                  9480   \n",
       "Arunachal Pradesh                                                  0   \n",
       "\n",
       "                   No. of Inmates benefitted by Adult Education  \\\n",
       "STATE/UT                                                          \n",
       "Andhra Pradesh                                            13758   \n",
       "Arunachal Pradesh                                             0   \n",
       "\n",
       "                   No. of Inmates benefitted by Higher Education  \\\n",
       "STATE/UT                                                           \n",
       "Andhra Pradesh                                               672   \n",
       "Arunachal Pradesh                                              0   \n",
       "\n",
       "                   No. of Inmates benefitted by Computer Course  \n",
       "STATE/UT                                                         \n",
       "Andhra Pradesh                                              170  \n",
       "Arunachal Pradesh                                             0  "
      ]
     },
     "execution_count": 37,
     "metadata": {},
     "output_type": "execute_result"
    }
   ],
   "source": [
    "benefits.head(2)"
   ]
  },
  {
   "cell_type": "code",
   "execution_count": 38,
   "metadata": {},
   "outputs": [
    {
     "data": {
      "text/plain": [
       "No. of Inmates benefitted by Elementary Education    37027\n",
       "No. of Inmates benefitted by Adult Education         53720\n",
       "No. of Inmates benefitted by Higher Education         8311\n",
       "No. of Inmates benefitted by Computer Course          7356\n",
       "dtype: int64"
      ]
     },
     "execution_count": 38,
     "metadata": {},
     "output_type": "execute_result"
    }
   ],
   "source": [
    "benefits = benefits.sum(axis=0)\n",
    "benefits"
   ]
  },
  {
   "cell_type": "code",
   "execution_count": 40,
   "metadata": {},
   "outputs": [
    {
     "data": {
      "text/plain": [
       "([<matplotlib.patches.Wedge at 0x2cc061f6860>,\n",
       "  <matplotlib.patches.Wedge at 0x2cc061f6f98>,\n",
       "  <matplotlib.patches.Wedge at 0x2cc062006d8>,\n",
       "  <matplotlib.patches.Wedge at 0x2cc06200dd8>],\n",
       " [Text(0.5056841301507949, 0.9768743831801682, 'No. of Inmates benefitted by Elementary Education'),\n",
       "  Text(-0.8884427274809521, -0.648590410032562, 'No. of Inmates benefitted by Adult Education'),\n",
       "  Text(0.8555421853426585, -0.6914098416273147, 'No. of Inmates benefitted by Higher Education'),\n",
       "  Text(1.0741631195981802, -0.23700968861020405, 'No. of Inmates benefitted by Computer Course')],\n",
       " [Text(0.275827707354979, 0.532840572643728, '34.80'),\n",
       "  Text(-0.48460512408051926, -0.35377658729048833, '50.48'),\n",
       "  Text(0.4666593738232682, -0.37713264088762616, '7.81'),\n",
       "  Text(0.5859071561444619, -0.1292780119692022, '6.91')])"
      ]
     },
     "execution_count": 40,
     "metadata": {},
     "output_type": "execute_result"
    },
    {
     "data": {
      "image/png": "[encoded data removed]",
      "text/plain": [
       "<Figure size 864x864 with 1 Axes>"
      ]
     },
     "metadata": {},
     "output_type": "display_data"
    }
   ],
   "source": [
    "sns.set(rc=({'font.size':30}))\n",
    "plt.figure(figsize=(12,12))\n",
    "plt.pie(benefits, labels=benefits.index, autopct='%.2f')"
   ]
  },
  {
   "cell_type": "code",
   "execution_count": null,
   "metadata": {},
   "outputs": [],
   "source": []
  },
  {
   "cell_type": "markdown",
   "metadata": {},
   "source": [
    "### Step 7: For the 5 highest benefitted states, create \n",
    "1. Bar chart. \n",
    "2. Stacked bar chart \n",
    "3. 100% stacked chart"
   ]
  },
  {
   "cell_type": "code",
   "execution_count": 41,
   "metadata": {},
   "outputs": [],
   "source": [
    "benefitted_states = data.copy()"
   ]
  },
  {
   "cell_type": "code",
   "execution_count": 49,
   "metadata": {},
   "outputs": [],
   "source": [
    "benefitted_states['total'] = benefitted_states.sum(axis=1)"
   ]
  },
  {
   "cell_type": "code",
   "execution_count": 50,
   "metadata": {},
   "outputs": [
    {
     "data": {
      "text/html": [
       "<div>\n",
       "<style scoped>\n",
       "    .dataframe tbody tr th:only-of-type {\n",
       "        vertical-align: middle;\n",
       "    }\n",
       "\n",
       "    .dataframe tbody tr th {\n",
       "        vertical-align: top;\n",
       "    }\n",
       "\n",
       "    .dataframe thead th {\n",
       "        text-align: right;\n",
       "    }\n",
       "</style>\n",
       "<table border=\"1\" class=\"dataframe\">\n",
       "  <thead>\n",
       "    <tr style=\"text-align: right;\">\n",
       "      <th></th>\n",
       "      <th>STATE/UT</th>\n",
       "      <th>No. of Inmates benefitted by Elementary Education</th>\n",
       "      <th>No. of Inmates benefitted by Adult Education</th>\n",
       "      <th>No. of Inmates benefitted by Higher Education</th>\n",
       "      <th>No. of Inmates benefitted by Computer Course</th>\n",
       "      <th>total_benefitted</th>\n",
       "      <th>total</th>\n",
       "    </tr>\n",
       "  </thead>\n",
       "  <tbody>\n",
       "    <tr>\n",
       "      <th>0</th>\n",
       "      <td>Andhra Pradesh</td>\n",
       "      <td>9480</td>\n",
       "      <td>13758</td>\n",
       "      <td>672</td>\n",
       "      <td>170</td>\n",
       "      <td>24080</td>\n",
       "      <td>48160</td>\n",
       "    </tr>\n",
       "    <tr>\n",
       "      <th>25</th>\n",
       "      <td>Uttar Pradesh</td>\n",
       "      <td>7876</td>\n",
       "      <td>8093</td>\n",
       "      <td>1353</td>\n",
       "      <td>212</td>\n",
       "      <td>17534</td>\n",
       "      <td>35068</td>\n",
       "    </tr>\n",
       "  </tbody>\n",
       "</table>\n",
       "</div>"
      ],
      "text/plain": [
       "          STATE/UT  No. of Inmates benefitted by Elementary Education  \\\n",
       "0   Andhra Pradesh                                               9480   \n",
       "25   Uttar Pradesh                                               7876   \n",
       "\n",
       "    No. of Inmates benefitted by Adult Education  \\\n",
       "0                                          13758   \n",
       "25                                          8093   \n",
       "\n",
       "    No. of Inmates benefitted by Higher Education  \\\n",
       "0                                             672   \n",
       "25                                           1353   \n",
       "\n",
       "    No. of Inmates benefitted by Computer Course  total_benefitted  total  \n",
       "0                                            170             24080  48160  \n",
       "25                                           212             17534  35068  "
      ]
     },
     "execution_count": 50,
     "metadata": {},
     "output_type": "execute_result"
    }
   ],
   "source": [
    "benefitted_states.head(2)"
   ]
  },
  {
   "cell_type": "code",
   "execution_count": 51,
   "metadata": {},
   "outputs": [],
   "source": [
    "benefitted_states = benefitted_states.sort_values('total', ascending=False).head()"
   ]
  },
  {
   "cell_type": "code",
   "execution_count": 52,
   "metadata": {},
   "outputs": [],
   "source": [
    "benefitted_states.drop('total', axis=1, inplace=True)"
   ]
  },
  {
   "cell_type": "code",
   "execution_count": 53,
   "metadata": {},
   "outputs": [
    {
     "data": {
      "text/html": [
       "<div>\n",
       "<style scoped>\n",
       "    .dataframe tbody tr th:only-of-type {\n",
       "        vertical-align: middle;\n",
       "    }\n",
       "\n",
       "    .dataframe tbody tr th {\n",
       "        vertical-align: top;\n",
       "    }\n",
       "\n",
       "    .dataframe thead th {\n",
       "        text-align: right;\n",
       "    }\n",
       "</style>\n",
       "<table border=\"1\" class=\"dataframe\">\n",
       "  <thead>\n",
       "    <tr style=\"text-align: right;\">\n",
       "      <th></th>\n",
       "      <th>STATE/UT</th>\n",
       "      <th>No. of Inmates benefitted by Elementary Education</th>\n",
       "      <th>No. of Inmates benefitted by Adult Education</th>\n",
       "      <th>No. of Inmates benefitted by Higher Education</th>\n",
       "      <th>No. of Inmates benefitted by Computer Course</th>\n",
       "      <th>total_benefitted</th>\n",
       "    </tr>\n",
       "  </thead>\n",
       "  <tbody>\n",
       "    <tr>\n",
       "      <th>0</th>\n",
       "      <td>Andhra Pradesh</td>\n",
       "      <td>9480</td>\n",
       "      <td>13758</td>\n",
       "      <td>672</td>\n",
       "      <td>170</td>\n",
       "      <td>24080</td>\n",
       "    </tr>\n",
       "    <tr>\n",
       "      <th>25</th>\n",
       "      <td>Uttar Pradesh</td>\n",
       "      <td>7876</td>\n",
       "      <td>8093</td>\n",
       "      <td>1353</td>\n",
       "      <td>212</td>\n",
       "      <td>17534</td>\n",
       "    </tr>\n",
       "  </tbody>\n",
       "</table>\n",
       "</div>"
      ],
      "text/plain": [
       "          STATE/UT  No. of Inmates benefitted by Elementary Education  \\\n",
       "0   Andhra Pradesh                                               9480   \n",
       "25   Uttar Pradesh                                               7876   \n",
       "\n",
       "    No. of Inmates benefitted by Adult Education  \\\n",
       "0                                          13758   \n",
       "25                                          8093   \n",
       "\n",
       "    No. of Inmates benefitted by Higher Education  \\\n",
       "0                                             672   \n",
       "25                                           1353   \n",
       "\n",
       "    No. of Inmates benefitted by Computer Course  total_benefitted  \n",
       "0                                            170             24080  \n",
       "25                                           212             17534  "
      ]
     },
     "execution_count": 53,
     "metadata": {},
     "output_type": "execute_result"
    }
   ],
   "source": [
    "benefitted_states.head(2)"
   ]
  },
  {
   "cell_type": "code",
   "execution_count": 55,
   "metadata": {},
   "outputs": [],
   "source": [
    "benefitted_states.rename({\n",
    "    \"No. of Inmates benefitted by Elementary Education\" : \"Elementary\",\n",
    "    \"No. of Inmates benefitted by Adult Education\" : \"Adult \",\n",
    "    \"No. of Inmates benefitted by Higher Education\" : \"Higher\",\n",
    "    \"No. of Inmates benefitted by Computer Course\" : \"Computer\"\n",
    "}, axis=1, inplace=True)"
   ]
  },
  {
   "cell_type": "code",
   "execution_count": 56,
   "metadata": {},
   "outputs": [
    {
     "data": {
      "text/html": [
       "<div>\n",
       "<style scoped>\n",
       "    .dataframe tbody tr th:only-of-type {\n",
       "        vertical-align: middle;\n",
       "    }\n",
       "\n",
       "    .dataframe tbody tr th {\n",
       "        vertical-align: top;\n",
       "    }\n",
       "\n",
       "    .dataframe thead th {\n",
       "        text-align: right;\n",
       "    }\n",
       "</style>\n",
       "<table border=\"1\" class=\"dataframe\">\n",
       "  <thead>\n",
       "    <tr style=\"text-align: right;\">\n",
       "      <th></th>\n",
       "      <th>STATE/UT</th>\n",
       "      <th>Elementary</th>\n",
       "      <th>Adult</th>\n",
       "      <th>Higher</th>\n",
       "      <th>Computer</th>\n",
       "      <th>total_benefitted</th>\n",
       "    </tr>\n",
       "  </thead>\n",
       "  <tbody>\n",
       "    <tr>\n",
       "      <th>0</th>\n",
       "      <td>Andhra Pradesh</td>\n",
       "      <td>9480</td>\n",
       "      <td>13758</td>\n",
       "      <td>672</td>\n",
       "      <td>170</td>\n",
       "      <td>24080</td>\n",
       "    </tr>\n",
       "    <tr>\n",
       "      <th>25</th>\n",
       "      <td>Uttar Pradesh</td>\n",
       "      <td>7876</td>\n",
       "      <td>8093</td>\n",
       "      <td>1353</td>\n",
       "      <td>212</td>\n",
       "      <td>17534</td>\n",
       "    </tr>\n",
       "  </tbody>\n",
       "</table>\n",
       "</div>"
      ],
      "text/plain": [
       "          STATE/UT  Elementary  Adult   Higher  Computer  total_benefitted\n",
       "0   Andhra Pradesh        9480   13758     672       170             24080\n",
       "25   Uttar Pradesh        7876    8093    1353       212             17534"
      ]
     },
     "execution_count": 56,
     "metadata": {},
     "output_type": "execute_result"
    }
   ],
   "source": [
    "benefitted_states.head(2)"
   ]
  },
  {
   "cell_type": "code",
   "execution_count": 59,
   "metadata": {},
   "outputs": [],
   "source": [
    "benefitted_states = benefitted_states.set_index('STATE/UT')"
   ]
  },
  {
   "cell_type": "code",
   "execution_count": 60,
   "metadata": {},
   "outputs": [
    {
     "data": {
      "text/html": [
       "<div>\n",
       "<style scoped>\n",
       "    .dataframe tbody tr th:only-of-type {\n",
       "        vertical-align: middle;\n",
       "    }\n",
       "\n",
       "    .dataframe tbody tr th {\n",
       "        vertical-align: top;\n",
       "    }\n",
       "\n",
       "    .dataframe thead th {\n",
       "        text-align: right;\n",
       "    }\n",
       "</style>\n",
       "<table border=\"1\" class=\"dataframe\">\n",
       "  <thead>\n",
       "    <tr style=\"text-align: right;\">\n",
       "      <th></th>\n",
       "      <th>Elementary</th>\n",
       "      <th>Adult</th>\n",
       "      <th>Higher</th>\n",
       "      <th>Computer</th>\n",
       "      <th>total_benefitted</th>\n",
       "    </tr>\n",
       "    <tr>\n",
       "      <th>STATE/UT</th>\n",
       "      <th></th>\n",
       "      <th></th>\n",
       "      <th></th>\n",
       "      <th></th>\n",
       "      <th></th>\n",
       "    </tr>\n",
       "  </thead>\n",
       "  <tbody>\n",
       "    <tr>\n",
       "      <th>Andhra Pradesh</th>\n",
       "      <td>9480</td>\n",
       "      <td>13758</td>\n",
       "      <td>672</td>\n",
       "      <td>170</td>\n",
       "      <td>24080</td>\n",
       "    </tr>\n",
       "    <tr>\n",
       "      <th>Uttar Pradesh</th>\n",
       "      <td>7876</td>\n",
       "      <td>8093</td>\n",
       "      <td>1353</td>\n",
       "      <td>212</td>\n",
       "      <td>17534</td>\n",
       "    </tr>\n",
       "  </tbody>\n",
       "</table>\n",
       "</div>"
      ],
      "text/plain": [
       "                Elementary  Adult   Higher  Computer  total_benefitted\n",
       "STATE/UT                                                              \n",
       "Andhra Pradesh        9480   13758     672       170             24080\n",
       "Uttar Pradesh         7876    8093    1353       212             17534"
      ]
     },
     "execution_count": 60,
     "metadata": {},
     "output_type": "execute_result"
    }
   ],
   "source": [
    "benefitted_states.head(2)"
   ]
  },
  {
   "cell_type": "code",
   "execution_count": 61,
   "metadata": {},
   "outputs": [
    {
     "data": {
      "text/plain": [
       "<matplotlib.axes._subplots.AxesSubplot at 0x2cc06211908>"
      ]
     },
     "execution_count": 61,
     "metadata": {},
     "output_type": "execute_result"
    },
    {
     "data": {
      "image/png": "[encoded data removed]",
      "text/plain": [
       "<Figure size 864x576 with 1 Axes>"
      ]
     },
     "metadata": {},
     "output_type": "display_data"
    }
   ],
   "source": [
    "benefitted_states.plot(kind='bar')"
   ]
  },
  {
   "cell_type": "code",
   "execution_count": 62,
   "metadata": {},
   "outputs": [
    {
     "data": {
      "text/plain": [
       "<matplotlib.axes._subplots.AxesSubplot at 0x2cc0635c898>"
      ]
     },
     "execution_count": 62,
     "metadata": {},
     "output_type": "execute_result"
    },
    {
     "data": {
      "image/png": "[encoded data removed]",
      "text/plain": [
       "<Figure size 864x576 with 1 Axes>"
      ]
     },
     "metadata": {},
     "output_type": "display_data"
    }
   ],
   "source": [
    "benefitted_states.plot(kind='bar', stacked=True)"
   ]
  },
  {
   "cell_type": "code",
   "execution_count": 64,
   "metadata": {},
   "outputs": [],
   "source": [
    "benefitted_states['total'] = benefitted_states.sum(axis=1)"
   ]
  },
  {
   "cell_type": "code",
   "execution_count": 67,
   "metadata": {},
   "outputs": [
    {
     "data": {
      "text/html": [
       "<div>\n",
       "<style scoped>\n",
       "    .dataframe tbody tr th:only-of-type {\n",
       "        vertical-align: middle;\n",
       "    }\n",
       "\n",
       "    .dataframe tbody tr th {\n",
       "        vertical-align: top;\n",
       "    }\n",
       "\n",
       "    .dataframe thead th {\n",
       "        text-align: right;\n",
       "    }\n",
       "</style>\n",
       "<table border=\"1\" class=\"dataframe\">\n",
       "  <thead>\n",
       "    <tr style=\"text-align: right;\">\n",
       "      <th></th>\n",
       "      <th>Elementary</th>\n",
       "      <th>Adult</th>\n",
       "      <th>Higher</th>\n",
       "      <th>Computer</th>\n",
       "      <th>total_benefitted</th>\n",
       "      <th>total</th>\n",
       "    </tr>\n",
       "    <tr>\n",
       "      <th>STATE/UT</th>\n",
       "      <th></th>\n",
       "      <th></th>\n",
       "      <th></th>\n",
       "      <th></th>\n",
       "      <th></th>\n",
       "      <th></th>\n",
       "    </tr>\n",
       "  </thead>\n",
       "  <tbody>\n",
       "    <tr>\n",
       "      <th>Andhra Pradesh</th>\n",
       "      <td>9480</td>\n",
       "      <td>13758</td>\n",
       "      <td>672</td>\n",
       "      <td>170</td>\n",
       "      <td>24080</td>\n",
       "      <td>48160</td>\n",
       "    </tr>\n",
       "    <tr>\n",
       "      <th>Uttar Pradesh</th>\n",
       "      <td>7876</td>\n",
       "      <td>8093</td>\n",
       "      <td>1353</td>\n",
       "      <td>212</td>\n",
       "      <td>17534</td>\n",
       "      <td>35068</td>\n",
       "    </tr>\n",
       "    <tr>\n",
       "      <th>Madhya Pradesh</th>\n",
       "      <td>1978</td>\n",
       "      <td>9574</td>\n",
       "      <td>301</td>\n",
       "      <td>151</td>\n",
       "      <td>12004</td>\n",
       "      <td>24008</td>\n",
       "    </tr>\n",
       "    <tr>\n",
       "      <th>Gujarat</th>\n",
       "      <td>2310</td>\n",
       "      <td>3133</td>\n",
       "      <td>875</td>\n",
       "      <td>966</td>\n",
       "      <td>7284</td>\n",
       "      <td>14568</td>\n",
       "    </tr>\n",
       "    <tr>\n",
       "      <th>Jharkhand</th>\n",
       "      <td>3008</td>\n",
       "      <td>2595</td>\n",
       "      <td>138</td>\n",
       "      <td>574</td>\n",
       "      <td>6315</td>\n",
       "      <td>12630</td>\n",
       "    </tr>\n",
       "  </tbody>\n",
       "</table>\n",
       "</div>"
      ],
      "text/plain": [
       "                Elementary  Adult   Higher  Computer  total_benefitted  total\n",
       "STATE/UT                                                                     \n",
       "Andhra Pradesh        9480   13758     672       170             24080  48160\n",
       "Uttar Pradesh         7876    8093    1353       212             17534  35068\n",
       "Madhya Pradesh        1978    9574     301       151             12004  24008\n",
       "Gujarat               2310    3133     875       966              7284  14568\n",
       "Jharkhand             3008    2595     138       574              6315  12630"
      ]
     },
     "execution_count": 67,
     "metadata": {},
     "output_type": "execute_result"
    }
   ],
   "source": [
    "benefitted_states.head()"
   ]
  },
  {
   "cell_type": "code",
   "execution_count": 69,
   "metadata": {},
   "outputs": [],
   "source": [
    "new_data = benefitted_states.apply(lambda x: round(100*x/benefitted_states['total']))"
   ]
  },
  {
   "cell_type": "code",
   "execution_count": 70,
   "metadata": {},
   "outputs": [],
   "source": [
    "new_data.drop('total', axis=1, inplace=True)"
   ]
  },
  {
   "cell_type": "code",
   "execution_count": 71,
   "metadata": {},
   "outputs": [
    {
     "data": {
      "text/html": [
       "<div>\n",
       "<style scoped>\n",
       "    .dataframe tbody tr th:only-of-type {\n",
       "        vertical-align: middle;\n",
       "    }\n",
       "\n",
       "    .dataframe tbody tr th {\n",
       "        vertical-align: top;\n",
       "    }\n",
       "\n",
       "    .dataframe thead th {\n",
       "        text-align: right;\n",
       "    }\n",
       "</style>\n",
       "<table border=\"1\" class=\"dataframe\">\n",
       "  <thead>\n",
       "    <tr style=\"text-align: right;\">\n",
       "      <th></th>\n",
       "      <th>Elementary</th>\n",
       "      <th>Adult</th>\n",
       "      <th>Higher</th>\n",
       "      <th>Computer</th>\n",
       "      <th>total_benefitted</th>\n",
       "    </tr>\n",
       "    <tr>\n",
       "      <th>STATE/UT</th>\n",
       "      <th></th>\n",
       "      <th></th>\n",
       "      <th></th>\n",
       "      <th></th>\n",
       "      <th></th>\n",
       "    </tr>\n",
       "  </thead>\n",
       "  <tbody>\n",
       "    <tr>\n",
       "      <th>Andhra Pradesh</th>\n",
       "      <td>20.0</td>\n",
       "      <td>29.0</td>\n",
       "      <td>1.0</td>\n",
       "      <td>0.0</td>\n",
       "      <td>50.0</td>\n",
       "    </tr>\n",
       "    <tr>\n",
       "      <th>Uttar Pradesh</th>\n",
       "      <td>22.0</td>\n",
       "      <td>23.0</td>\n",
       "      <td>4.0</td>\n",
       "      <td>1.0</td>\n",
       "      <td>50.0</td>\n",
       "    </tr>\n",
       "    <tr>\n",
       "      <th>Madhya Pradesh</th>\n",
       "      <td>8.0</td>\n",
       "      <td>40.0</td>\n",
       "      <td>1.0</td>\n",
       "      <td>1.0</td>\n",
       "      <td>50.0</td>\n",
       "    </tr>\n",
       "    <tr>\n",
       "      <th>Gujarat</th>\n",
       "      <td>16.0</td>\n",
       "      <td>22.0</td>\n",
       "      <td>6.0</td>\n",
       "      <td>7.0</td>\n",
       "      <td>50.0</td>\n",
       "    </tr>\n",
       "    <tr>\n",
       "      <th>Jharkhand</th>\n",
       "      <td>24.0</td>\n",
       "      <td>21.0</td>\n",
       "      <td>1.0</td>\n",
       "      <td>5.0</td>\n",
       "      <td>50.0</td>\n",
       "    </tr>\n",
       "  </tbody>\n",
       "</table>\n",
       "</div>"
      ],
      "text/plain": [
       "                Elementary  Adult   Higher  Computer  total_benefitted\n",
       "STATE/UT                                                              \n",
       "Andhra Pradesh        20.0    29.0     1.0       0.0              50.0\n",
       "Uttar Pradesh         22.0    23.0     4.0       1.0              50.0\n",
       "Madhya Pradesh         8.0    40.0     1.0       1.0              50.0\n",
       "Gujarat               16.0    22.0     6.0       7.0              50.0\n",
       "Jharkhand             24.0    21.0     1.0       5.0              50.0"
      ]
     },
     "execution_count": 71,
     "metadata": {},
     "output_type": "execute_result"
    }
   ],
   "source": [
    "new_data"
   ]
  },
  {
   "cell_type": "code",
   "execution_count": 72,
   "metadata": {},
   "outputs": [
    {
     "data": {
      "text/plain": [
       "<matplotlib.axes._subplots.AxesSubplot at 0x2cc06673b38>"
      ]
     },
     "execution_count": 72,
     "metadata": {},
     "output_type": "execute_result"
    },
    {
     "data": {
      "image/png": "[encoded data removed]",
      "text/plain": [
       "<Figure size 864x576 with 1 Axes>"
      ]
     },
     "metadata": {},
     "output_type": "display_data"
    }
   ],
   "source": [
    "new_data.plot(kind='bar', stacked=True)"
   ]
  },
  {
   "cell_type": "code",
   "execution_count": null,
   "metadata": {},
   "outputs": [],
   "source": []
  }
 ],
 "metadata": {
  "kernelspec": {
   "display_name": "Python 3",
   "language": "python",
   "name": "python3"
  },
  "language_info": {
   "codemirror_mode": {
    "name": "ipython",
    "version": 3
   },
   "file_extension": ".py",
   "mimetype": "text/x-python",
   "name": "python",
   "nbconvert_exporter": "python",
   "pygments_lexer": "ipython3",
   "version": "3.7.3"
  },
  "latex_envs": {
   "LaTeX_envs_menu_present": true,
   "autoclose": false,
   "autocomplete": true,
   "bibliofile": "biblio.bib",
   "cite_by": "apalike",
   "current_citInitial": 1,
   "eqLabelWithNumbers": true,
   "eqNumInitial": 1,
   "hotkeys": {
    "equation": "Ctrl-E",
    "itemize": "Ctrl-I"
   },
   "labels_anchors": false,
   "latex_user_defs": false,
   "report_style_numbering": false,
   "user_envs_cfg": false
  }
 },
 "nbformat": 4,
 "nbformat_minor": 2
}
